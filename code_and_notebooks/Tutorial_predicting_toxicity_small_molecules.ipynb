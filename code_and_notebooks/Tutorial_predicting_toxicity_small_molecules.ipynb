{
 "cells": [
  {
   "cell_type": "markdown",
   "id": "df3acb05-8b97-430d-847c-3cda2753676a",
   "metadata": {},
   "source": [
    "# Prediction of toxicity of small molecules\n",
    "\n",
    "This notebook contains a end to end project for toxicity prediction of small molecules. Specific details about the code can be found in the present notebbok or in the helper scripts referenced in each section. "
   ]
  },
  {
   "cell_type": "markdown",
   "id": "08747e9b-3225-4bca-9c95-020e922c0b26",
   "metadata": {},
   "source": [
    "For this project the dataset used was [MolToxPred](https://pubs.rsc.org/en/content/articlelanding/2024/ra/d3ra07322j). For further information check out the linked reference."
   ]
  },
  {
   "cell_type": "code",
   "execution_count": 28,
   "id": "1e9738c3-3212-4624-b952-13f57443464b",
   "metadata": {},
   "outputs": [],
   "source": [
    "import pandas as pd\n",
    "from collections import Counter"
   ]
  },
  {
   "cell_type": "code",
   "execution_count": 29,
   "id": "fb0e5e1c-791e-4655-b49d-8637b18e1aa8",
   "metadata": {},
   "outputs": [
    {
     "data": {
      "text/html": [
       "<div>\n",
       "<style scoped>\n",
       "    .dataframe tbody tr th:only-of-type {\n",
       "        vertical-align: middle;\n",
       "    }\n",
       "\n",
       "    .dataframe tbody tr th {\n",
       "        vertical-align: top;\n",
       "    }\n",
       "\n",
       "    .dataframe thead th {\n",
       "        text-align: right;\n",
       "    }\n",
       "</style>\n",
       "<table border=\"1\" class=\"dataframe\">\n",
       "  <thead>\n",
       "    <tr style=\"text-align: right;\">\n",
       "      <th></th>\n",
       "      <th>SMILES</th>\n",
       "      <th>Toxicity</th>\n",
       "    </tr>\n",
       "  </thead>\n",
       "  <tbody>\n",
       "    <tr>\n",
       "      <th>0</th>\n",
       "      <td>Cn1cnc2c(F)c(Nc3ccc(Br)cc3Cl)c(C(=O)NOCCO)cc21</td>\n",
       "      <td>0</td>\n",
       "    </tr>\n",
       "    <tr>\n",
       "      <th>1</th>\n",
       "      <td>COC(=O)c1ccc2c(c1)NC(=O)/C2=C(\\Nc1ccc(N(C)C(=O...</td>\n",
       "      <td>0</td>\n",
       "    </tr>\n",
       "    <tr>\n",
       "      <th>2</th>\n",
       "      <td>CN(C)C/C=C/C(=O)Nc1cc2c(Nc3ccc(F)c(Cl)c3)ncnc2...</td>\n",
       "      <td>0</td>\n",
       "    </tr>\n",
       "    <tr>\n",
       "      <th>3</th>\n",
       "      <td>COC1CC2CCC(C)C(O)(O2)C(=O)C(=O)N2CCCCC2C(=O)OC...</td>\n",
       "      <td>0</td>\n",
       "    </tr>\n",
       "    <tr>\n",
       "      <th>4</th>\n",
       "      <td>CS(=O)(=O)O.Cc1ccc(NC(=O)c2ccc(CN3CCN(C)CC3)cc...</td>\n",
       "      <td>0</td>\n",
       "    </tr>\n",
       "  </tbody>\n",
       "</table>\n",
       "</div>"
      ],
      "text/plain": [
       "                                              SMILES  Toxicity\n",
       "0     Cn1cnc2c(F)c(Nc3ccc(Br)cc3Cl)c(C(=O)NOCCO)cc21         0\n",
       "1  COC(=O)c1ccc2c(c1)NC(=O)/C2=C(\\Nc1ccc(N(C)C(=O...         0\n",
       "2  CN(C)C/C=C/C(=O)Nc1cc2c(Nc3ccc(F)c(Cl)c3)ncnc2...         0\n",
       "3  COC1CC2CCC(C)C(O)(O2)C(=O)C(=O)N2CCCCC2C(=O)OC...         0\n",
       "4  CS(=O)(=O)O.Cc1ccc(NC(=O)c2ccc(CN3CCN(C)CC3)cc...         0"
      ]
     },
     "execution_count": 29,
     "metadata": {},
     "output_type": "execute_result"
    }
   ],
   "source": [
    "data = pd.read_csv('https://raw.githubusercontent.com/FabioHerrera97/Cheminformatics_ML_toxicity/refs/heads/main/data/smiles_10449_train_test.csv')\n",
    "data.head()"
   ]
  },
  {
   "cell_type": "code",
   "execution_count": 30,
   "id": "f8645270-02eb-45d5-92ed-a29ac5336a71",
   "metadata": {},
   "outputs": [
    {
     "name": "stdout",
     "output_type": "stream",
     "text": [
      "<class 'pandas.core.frame.DataFrame'>\n",
      "RangeIndex: 10449 entries, 0 to 10448\n",
      "Data columns (total 2 columns):\n",
      " #   Column    Non-Null Count  Dtype \n",
      "---  ------    --------------  ----- \n",
      " 0   SMILES    10449 non-null  object\n",
      " 1   Toxicity  10449 non-null  int64 \n",
      "dtypes: int64(1), object(1)\n",
      "memory usage: 163.4+ KB\n"
     ]
    }
   ],
   "source": [
    "data.info()"
   ]
  },
  {
   "cell_type": "code",
   "execution_count": 31,
   "id": "670cc753-0cbe-4ee5-8971-e0a715917ef5",
   "metadata": {},
   "outputs": [
    {
     "name": "stdout",
     "output_type": "stream",
     "text": [
      "Toxicity\n",
      "0    5833\n",
      "1    4616\n",
      "Name: count, dtype: int64\n"
     ]
    }
   ],
   "source": [
    "print(data['Toxicity'].value_counts())"
   ]
  },
  {
   "cell_type": "code",
   "execution_count": 32,
   "id": "20c172a6-34bf-4d3c-8621-33eaf3553213",
   "metadata": {},
   "outputs": [
    {
     "name": "stdout",
     "output_type": "stream",
     "text": [
      "{}\n"
     ]
    }
   ],
   "source": [
    "mol_counts = Counter(data['SMILES'])\n",
    "duplicates = {element: count for element, count in mol_counts.items() if count > 1}\n",
    "print(duplicates)"
   ]
  },
  {
   "cell_type": "markdown",
   "id": "93348c2a-409f-456a-a6db-e1821633a118",
   "metadata": {},
   "source": [
    "This is a relatively balanced dataset containig 10449 compounds. 5833 of the molecules are non-toxic (label 0), while the remaining 4616 are toxic (label 1)"
   ]
  },
  {
   "cell_type": "markdown",
   "id": "0970d657-5d01-4c51-95b1-ff2b50dc277b",
   "metadata": {},
   "source": [
    "## Standardization of the compounds\n",
    "\n",
    "**NOTE: This section of the project is based on [DeepMol](https://deepmol.readthedocs.io/en/latest/) standardization tutorial and [MolPipeline](https://pubs.acs.org/doi/10.1021/acs.jcim.4c00863) example notebooks with some minor modifications.**\n",
    "\n",
    "Standardization referes to transforming a set of chemical structures to a standardized format using a predifined set of rules. This allows to properly compare the chemical structures in the dataset to each other and handle steps like duplicated element deletion or ensure data consistency. \n",
    "\n",
    "There are 3 common standardization options: basic standardizer, complex standardizerand ChEMBL standardizer. Simple standardizer only perform sanititization, including steps like kekulize, check valencies, set aromaticity, conjugation and hybridization. Complex standardizers include customized procedures by performing additional steps like remove isotope information, neutralize charges, remove stereochemistry or remove smaller fragments. Finally, [ChEMBL](https://jcheminf.biomedcentral.com/articles/10.1186/s13321-020-00456-1) standardizer formats compounds according to defined rules and conventions."
   ]
  },
  {
   "cell_type": "code",
   "execution_count": 33,
   "id": "b255d96d-da8d-472a-8b12-73dd189e47da",
   "metadata": {},
   "outputs": [],
   "source": [
    "from molpipeline import Pipeline\n",
    "from molpipeline.any2mol import AutoToMol\n",
    "from molpipeline.mol2mol import ElementFilter, MetalDisconnector, SaltRemover, StereoRemover, SolventRemover, TautomerCanonicalizer, Uncharger"
   ]
  },
  {
   "cell_type": "code",
   "execution_count": 34,
   "id": "d9d4c8f8-1520-4489-9c92-af47fb2bb276",
   "metadata": {},
   "outputs": [],
   "source": [
    "#Create elements from smiles\n",
    "mol_from_smiles = [('auto2mol', AutoToMol())]\n",
    "\n",
    "#Set up the molecular standardization steps\n",
    "standardization_steps = [\n",
    "    ('metal_disconnector', MetalDisconnector()),\n",
    "    ('salt_remover', SaltRemover()),\n",
    "    ('element_filter', ElementFilter()),\n",
    "    ('uncharge', Uncharger()),\n",
    "    ('canonical_tautomer', TautomerCanonicalizer()),\n",
    "    ('stereo_remover', StereoRemover())\n",
    "]\n",
    "\n",
    "pipeline_standardization = Pipeline(\n",
    "    mol_from_smiles + standardization_steps\n",
    ")\n",
    "\n",
    "standardized_structures = pipeline_standardization.transform(data['SMILES'])"
   ]
  },
  {
   "cell_type": "markdown",
   "id": "74113d24-86d5-4ca4-9ba1-08088b2d0d23",
   "metadata": {},
   "source": [
    "The above pipeline, in the standardization steps, include the following procedures:\n",
    "   \n",
    "1. `metal_disconnector`: remove metal atoms. Disconnecting metal ensures that the core organic molecules are properly analyzed as metals re not well-represented in cheminformatics.\n",
    "\n",
    "2. `salt_remover`: Removes salt counterions (e.g., Na+, Cl-, K+) from the molecule. These ions are often added during synthesis or purification but are not part of the active molecule. These salts can artificially inflate the molecular weight or alter properties like solubility, leading to incorrect predictions and are irrelevant to the biological activity.\n",
    "\n",
    "3. `element_filter`: In this step molecules containing elements other than the default elements (H, B, C, O, F, Si, P, S, Cl, Se, Br, I) are replaced with an `InvalidInstance` to instead of removing it and avoid inconsistencies with the initial input. This element filter is needed to avoid feature representation problems as unusual elements may not be properly encoded, they may also introduce noise or irrelevant patterns, and disturb the capacity of the model to capture meaningful biological information. **It is important to apply this filter only after disconnecting metals aor removing salts to avoid removing compounds of interest**\n",
    "\n",
    "5. `uncharge`: Neutralizes charged molecules by adjusting protonation states (e.g., converting -COO⁻ to -COOH or -NH₃⁺ to -NH₂). Charged molecules can have different physicochemical properties (e.g., solubility, reactivity) compared to their neutral forms. Uncharging ensures consistency in molecular representation.\n",
    "\n",
    "6. `canonical_tautomer`: Converts the molecule to a standardized tautomeric form. Tautomers are isomers that can interconvert by the movement of a proton and a double bond (e.g., keto-enol tautomerism). Tautomers can have different chemical properties, but they represent the same molecule in equilibrium. Without standardization, the same molecule could be represented in multiple ways, leading to inconsistencies in predictions, affecting the model reliability.\n",
    "\n",
    "7. `stereo_remover`: Removes stereochemical information (e.g., chiral centers, double bond stereochemistry) from the molecule. Stereochemistry can significantly affect molecular properties (e.g., biological activity), but if only a part of the training data include stereochemistry, considering it in the input can lead to incorrect predictions.\n",
    "\n",
    "Additional standardazation steps can be added. Chech [RDKit standardization module documentation](https://www.rdkit.org/docs/source/rdkit.Chem.MolStandardize.html) or [MolVS documentation](https://molvs.readthedocs.io/en/latest/guide/standardize.html). Also, you can check this talk from [Greg Landrum](https://www.youtube.com/watch?v=eWTApNX8dJQ)\n",
    "\n",
    "**Note: every standardization step ,must be carefully selected to avoid overcleaning the data and affecting the predictive power of the model**"
   ]
  },
  {
   "cell_type": "code",
   "execution_count": 35,
   "id": "85621fb6-db6f-4dc5-8a9f-8407719d0a94",
   "metadata": {},
   "outputs": [
    {
     "name": "stdout",
     "output_type": "stream",
     "text": [
      "<class 'pandas.core.frame.DataFrame'>\n",
      "RangeIndex: 10449 entries, 0 to 10448\n",
      "Data columns (total 3 columns):\n",
      " #   Column                  Non-Null Count  Dtype \n",
      "---  ------                  --------------  ----- \n",
      " 0   SMILES                  10449 non-null  object\n",
      " 1   Toxicity                10449 non-null  int64 \n",
      " 2   Standardized_structure  10449 non-null  object\n",
      "dtypes: int64(1), object(2)\n",
      "memory usage: 245.0+ KB\n"
     ]
    }
   ],
   "source": [
    "data ['Standardized_structure'] = standardized_structures\n",
    "data.info()"
   ]
  },
  {
   "cell_type": "code",
   "execution_count": 36,
   "id": "daf1ca74-bc92-42b1-b812-2bd0353a16b9",
   "metadata": {},
   "outputs": [
    {
     "name": "stdout",
     "output_type": "stream",
     "text": [
      "{InvalidInstance(ElementFilter, Molecule contains forbidden chemical element.): 837}\n"
     ]
    }
   ],
   "source": [
    "structure_counts = Counter(data['Standardized_structure'])\n",
    "duplicates_structure = {structure: count for structure, count in structure_counts.items() if count > 1}\n",
    "print(duplicates_structure)"
   ]
  },
  {
   "cell_type": "markdown",
   "id": "74ee0c16-5071-4f92-8405-9072b2541f9d",
   "metadata": {},
   "source": [
    "## Molecular respresentation\n",
    "\n",
    "**NOTE: This section of the project is based on [DeepMol](https://deepmol.readthedocs.io/en/latest/) featurization tutorial and [Fernandez-Torras et al.](https://www.sciencedirect.com/science/article/pii/S1367593121001204#fig1) with some modifications.**\n",
    "\n",
    "![features_image.png](https://ars.els-cdn.com/content/image/1-s2.0-S1367593121001204-gr1_lrg.jpg)\n",
    "\n",
    "Extracting features from molecules is a common task in machine learning and can be divided into classical methods and data driven methods. \n",
    "\n",
    "**Classical Methods**: There are 4 different types of features: 0D, 1D, 2D, 3D, or 4D.\n",
    " \n",
    "- 0D features are descriptors that describe the individual parts of the molecule together as a whole, such as the number of atoms, bond counts or the molecular weight.\n",
    "- 1D features are descriptors that describe substructures in the molecule (e.g. molecular fingerprints).\n",
    "- 2D features are descriptors that describe the molecular topology based on the graph representation of the molecules, e.g. the number of rings or the number of rotatable bonds.\n",
    "- 3D features are descriptors geometrical descriptors that describe the molecule as a 3D structure.\n",
    "- 4D features are descriptors that describe the molecule as a 4D structure. A new dimension is added to characterize the interactions between the molecule and the active site of a receptor or the multiple conformational states of the molecule, e.g. the molecular dynamics of the molecule.\n",
    " \n",
    "Source : [Molecular Descriptors for Structure–Activity Applications: A Hands-On Approach](https://link.springer.com/protocol/10.1007/978-1-4939-7899-1_1)\n",
    " \n",
    "Calculating 3D features requires the generation of 3D conformers, which can be computationally expensive for large molecules. In addition, some features may not be available for certain molecules, e.g. 3D features cannot be calculated for molecules that do not have a 3D structure. Some tools like DeepMol provide methods for generating compound 3D structures.\n",
    "\n",
    "**Data driven methods**: These are descriptors based on deep learning, pretrained models and LLMs strategies that encode molecules into abstract latent spaces, representing molecular similarities as simple distance measures between numerical vectors. Furthermore, molecular descriptors have expanded beyond chemistry, integrating relevant biological data from heterogeneous bioactivity assays. \n",
    "\n",
    "There is currently a huge amount of these methods comming out every day. This work of [The WhiteLab](https://pubs.rsc.org/en/content/articlelanding/2025/sc/d4sc03921a) presents a critical review of these tools depending on the case. In this tutorial we will use MolFormer, MolBERT, and ChemBERTa as they are the state of the art encoding methods for property prediction."
   ]
  },
  {
   "cell_type": "code",
   "execution_count": null,
   "id": "2bf653c6-8c01-4f0d-8560-5fd537c95f94",
   "metadata": {},
   "outputs": [],
   "source": []
  }
 ],
 "metadata": {
  "kernelspec": {
   "display_name": "Python 3 (ipykernel)",
   "language": "python",
   "name": "python3"
  },
  "language_info": {
   "codemirror_mode": {
    "name": "ipython",
    "version": 3
   },
   "file_extension": ".py",
   "mimetype": "text/x-python",
   "name": "python",
   "nbconvert_exporter": "python",
   "pygments_lexer": "ipython3",
   "version": "3.11.11"
  }
 },
 "nbformat": 4,
 "nbformat_minor": 5
}
