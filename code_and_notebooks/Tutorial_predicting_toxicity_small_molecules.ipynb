{
 "cells": [
  {
   "cell_type": "markdown",
   "id": "df3acb05-8b97-430d-847c-3cda2753676a",
   "metadata": {},
   "source": [
    "# Prediction of toxicity of small molecules\n",
    "\n",
    "This notebook contains a end to end project for toxicity prediction of small molecules. Specific details about the code can be found in the present notebbok or in the helper scripts referenced in each section. "
   ]
  },
  {
   "cell_type": "markdown",
   "id": "08747e9b-3225-4bca-9c95-020e922c0b26",
   "metadata": {},
   "source": [
    "For this project the dataset used was [MolToxPred](https://pubs.rsc.org/en/content/articlelanding/2024/ra/d3ra07322j). For further information check out the linked reference."
   ]
  },
  {
   "cell_type": "code",
   "execution_count": 1,
   "id": "1e9738c3-3212-4624-b952-13f57443464b",
   "metadata": {},
   "outputs": [],
   "source": [
    "import pandas as pd\n",
    "from collections import Counter"
   ]
  },
  {
   "cell_type": "code",
   "execution_count": 2,
   "id": "fb0e5e1c-791e-4655-b49d-8637b18e1aa8",
   "metadata": {},
   "outputs": [
    {
     "data": {
      "text/html": [
       "<div>\n",
       "<style scoped>\n",
       "    .dataframe tbody tr th:only-of-type {\n",
       "        vertical-align: middle;\n",
       "    }\n",
       "\n",
       "    .dataframe tbody tr th {\n",
       "        vertical-align: top;\n",
       "    }\n",
       "\n",
       "    .dataframe thead th {\n",
       "        text-align: right;\n",
       "    }\n",
       "</style>\n",
       "<table border=\"1\" class=\"dataframe\">\n",
       "  <thead>\n",
       "    <tr style=\"text-align: right;\">\n",
       "      <th></th>\n",
       "      <th>SMILES</th>\n",
       "      <th>Toxicity</th>\n",
       "    </tr>\n",
       "  </thead>\n",
       "  <tbody>\n",
       "    <tr>\n",
       "      <th>0</th>\n",
       "      <td>Cn1cnc2c(F)c(Nc3ccc(Br)cc3Cl)c(C(=O)NOCCO)cc21</td>\n",
       "      <td>0</td>\n",
       "    </tr>\n",
       "    <tr>\n",
       "      <th>1</th>\n",
       "      <td>COC(=O)c1ccc2c(c1)NC(=O)/C2=C(\\Nc1ccc(N(C)C(=O...</td>\n",
       "      <td>0</td>\n",
       "    </tr>\n",
       "    <tr>\n",
       "      <th>2</th>\n",
       "      <td>CN(C)C/C=C/C(=O)Nc1cc2c(Nc3ccc(F)c(Cl)c3)ncnc2...</td>\n",
       "      <td>0</td>\n",
       "    </tr>\n",
       "    <tr>\n",
       "      <th>3</th>\n",
       "      <td>COC1CC2CCC(C)C(O)(O2)C(=O)C(=O)N2CCCCC2C(=O)OC...</td>\n",
       "      <td>0</td>\n",
       "    </tr>\n",
       "    <tr>\n",
       "      <th>4</th>\n",
       "      <td>CS(=O)(=O)O.Cc1ccc(NC(=O)c2ccc(CN3CCN(C)CC3)cc...</td>\n",
       "      <td>0</td>\n",
       "    </tr>\n",
       "  </tbody>\n",
       "</table>\n",
       "</div>"
      ],
      "text/plain": [
       "                                              SMILES  Toxicity\n",
       "0     Cn1cnc2c(F)c(Nc3ccc(Br)cc3Cl)c(C(=O)NOCCO)cc21         0\n",
       "1  COC(=O)c1ccc2c(c1)NC(=O)/C2=C(\\Nc1ccc(N(C)C(=O...         0\n",
       "2  CN(C)C/C=C/C(=O)Nc1cc2c(Nc3ccc(F)c(Cl)c3)ncnc2...         0\n",
       "3  COC1CC2CCC(C)C(O)(O2)C(=O)C(=O)N2CCCCC2C(=O)OC...         0\n",
       "4  CS(=O)(=O)O.Cc1ccc(NC(=O)c2ccc(CN3CCN(C)CC3)cc...         0"
      ]
     },
     "execution_count": 2,
     "metadata": {},
     "output_type": "execute_result"
    }
   ],
   "source": [
    "data = pd.read_csv('https://raw.githubusercontent.com/FabioHerrera97/Cheminformatics_ML_toxicity/refs/heads/main/data/smiles_10449_train_test.csv')\n",
    "data.head()"
   ]
  },
  {
   "cell_type": "code",
   "execution_count": 3,
   "id": "f8645270-02eb-45d5-92ed-a29ac5336a71",
   "metadata": {},
   "outputs": [
    {
     "name": "stdout",
     "output_type": "stream",
     "text": [
      "<class 'pandas.core.frame.DataFrame'>\n",
      "RangeIndex: 10449 entries, 0 to 10448\n",
      "Data columns (total 2 columns):\n",
      " #   Column    Non-Null Count  Dtype \n",
      "---  ------    --------------  ----- \n",
      " 0   SMILES    10449 non-null  object\n",
      " 1   Toxicity  10449 non-null  int64 \n",
      "dtypes: int64(1), object(1)\n",
      "memory usage: 163.4+ KB\n"
     ]
    }
   ],
   "source": [
    "data.info()"
   ]
  },
  {
   "cell_type": "code",
   "execution_count": 4,
   "id": "670cc753-0cbe-4ee5-8971-e0a715917ef5",
   "metadata": {},
   "outputs": [
    {
     "name": "stdout",
     "output_type": "stream",
     "text": [
      "Toxicity\n",
      "0    5833\n",
      "1    4616\n",
      "Name: count, dtype: int64\n"
     ]
    }
   ],
   "source": [
    "print(data['Toxicity'].value_counts())"
   ]
  },
  {
   "cell_type": "code",
   "execution_count": 5,
   "id": "20c172a6-34bf-4d3c-8621-33eaf3553213",
   "metadata": {},
   "outputs": [
    {
     "name": "stdout",
     "output_type": "stream",
     "text": [
      "{}\n"
     ]
    }
   ],
   "source": [
    "mol_counts = Counter(data['SMILES'])\n",
    "duplicates = {element: count for element, count in mol_counts.items() if count > 1}\n",
    "print(duplicates)"
   ]
  },
  {
   "cell_type": "markdown",
   "id": "93348c2a-409f-456a-a6db-e1821633a118",
   "metadata": {},
   "source": [
    "This is a dataset containig 10449 compounds. There is a small imbalance as 5833 of the molecules are non-toxic (label 0), while the remaining 4616 are toxic (label 1)"
   ]
  },
  {
   "cell_type": "markdown",
   "id": "0970d657-5d01-4c51-95b1-ff2b50dc277b",
   "metadata": {},
   "source": [
    "## Standardization of the compounds\n",
    "\n",
    "**NOTE: This section of the project is based on [DeepMol](https://deepmol.readthedocs.io/en/latest/) standardization tutorial and [MolPipeline](https://pubs.acs.org/doi/10.1021/acs.jcim.4c00863) example notebooks with some minor modifications.**\n",
    "\n",
    "Standardization referes to transforming a set of chemical structures to a standardized format using a predifined set of rules. This allows to properly compare the chemical structures in the dataset to each other and handle steps like duplicated element deletion or ensure data consistency. \n",
    "\n",
    "There are 3 common standardization options: basic standardizer, complex standardizerand ChEMBL standardizer. Simple standardizer only perform sanititization, including steps like kekulize, check valencies, set aromaticity, conjugation and hybridization. Complex standardizers include customized procedures by performing additional steps like remove isotope information, neutralize charges, remove stereochemistry or remove smaller fragments. Finally, [ChEMBL](https://jcheminf.biomedcentral.com/articles/10.1186/s13321-020-00456-1) standardizer formats compounds according to defined rules and conventions."
   ]
  },
  {
   "cell_type": "code",
   "execution_count": 6,
   "id": "b255d96d-da8d-472a-8b12-73dd189e47da",
   "metadata": {},
   "outputs": [],
   "source": [
    "from molpipeline import Pipeline\n",
    "from molpipeline.any2mol import AutoToMol\n",
    "from molpipeline.mol2mol import ElementFilter, MetalDisconnector, SaltRemover, StereoRemover, SolventRemover, TautomerCanonicalizer, Uncharger"
   ]
  },
  {
   "cell_type": "code",
   "execution_count": 7,
   "id": "d9d4c8f8-1520-4489-9c92-af47fb2bb276",
   "metadata": {},
   "outputs": [],
   "source": [
    "#Create elements from smiles\n",
    "mol_from_smiles = [('auto2mol', AutoToMol())]\n",
    "\n",
    "#Set up the molecular standardization steps\n",
    "standardization_steps = [\n",
    "    ('metal_disconnector', MetalDisconnector()),\n",
    "    ('salt_remover', SaltRemover()),\n",
    "    ('element_filter', ElementFilter()),\n",
    "    ('uncharge', Uncharger()),\n",
    "    ('canonical_tautomer', TautomerCanonicalizer()),\n",
    "    ('stereo_remover', StereoRemover())\n",
    "]\n",
    "\n",
    "pipeline_standardization = Pipeline(\n",
    "    mol_from_smiles + standardization_steps\n",
    ")\n",
    "\n",
    "standardized_structures = pipeline_standardization.transform(data['SMILES'])"
   ]
  },
  {
   "cell_type": "markdown",
   "id": "74113d24-86d5-4ca4-9ba1-08088b2d0d23",
   "metadata": {},
   "source": [
    "The above pipeline, in the standardization steps, include the following procedures:\n",
    "   \n",
    "1. `metal_disconnector`: remove metal atoms. Disconnecting metal ensures that the core organic molecules are properly analyzed as metals re not well-represented in cheminformatics.\n",
    "\n",
    "2. `salt_remover`: Removes salt counterions (e.g., Na+, Cl-, K+) from the molecule. These ions are often added during synthesis or purification but are not part of the active molecule. These salts can artificially inflate the molecular weight or alter properties like solubility, leading to incorrect predictions and are irrelevant to the biological activity.\n",
    "\n",
    "3. `element_filter`: In this step molecules containing elements other than the default elements (H, B, C, O, F, Si, P, S, Cl, Se, Br, I) are replaced with an `InvalidInstance` to instead of removing it and avoid inconsistencies with the initial input. This element filter is needed to avoid feature representation problems as unusual elements may not be properly encoded, they may also introduce noise or irrelevant patterns, and disturb the capacity of the model to capture meaningful biological information. **It is important to apply this filter only after disconnecting metals aor removing salts to avoid removing compounds of interest**\n",
    "\n",
    "5. `uncharge`: Neutralizes charged molecules by adjusting protonation states (e.g., converting -COO⁻ to -COOH or -NH₃⁺ to -NH₂). Charged molecules can have different physicochemical properties (e.g., solubility, reactivity) compared to their neutral forms. Uncharging ensures consistency in molecular representation.\n",
    "\n",
    "6. `canonical_tautomer`: Converts the molecule to a standardized tautomeric form. Tautomers are isomers that can interconvert by the movement of a proton and a double bond (e.g., keto-enol tautomerism). Tautomers can have different chemical properties, but they represent the same molecule in equilibrium. Without standardization, the same molecule could be represented in multiple ways, leading to inconsistencies in predictions, affecting the model reliability.\n",
    "\n",
    "7. `stereo_remover`: Removes stereochemical information (e.g., chiral centers, double bond stereochemistry) from the molecule. Stereochemistry can significantly affect molecular properties (e.g., biological activity), but if only a part of the training data include stereochemistry, considering it in the input can lead to incorrect predictions.\n",
    "\n",
    "Additional standardazation steps can be added. Chech [RDKit standardization module documentation](https://www.rdkit.org/docs/source/rdkit.Chem.MolStandardize.html) or [MolVS documentation](https://molvs.readthedocs.io/en/latest/guide/standardize.html). Also, you can check this talk from [Greg Landrum](https://www.youtube.com/watch?v=eWTApNX8dJQ)\n",
    "\n",
    "**Note: every standardization step must be carefully selected to avoid overcleaning the data and affecting the predictive power of the model**"
   ]
  },
  {
   "cell_type": "code",
   "execution_count": 9,
   "id": "85621fb6-db6f-4dc5-8a9f-8407719d0a94",
   "metadata": {},
   "outputs": [
    {
     "name": "stdout",
     "output_type": "stream",
     "text": [
      "<class 'pandas.core.frame.DataFrame'>\n",
      "RangeIndex: 10449 entries, 0 to 10448\n",
      "Data columns (total 3 columns):\n",
      " #   Column                  Non-Null Count  Dtype \n",
      "---  ------                  --------------  ----- \n",
      " 0   SMILES                  10449 non-null  object\n",
      " 1   Toxicity                10449 non-null  int64 \n",
      " 2   Standardized_structure  10449 non-null  object\n",
      "dtypes: int64(1), object(2)\n",
      "memory usage: 245.0+ KB\n"
     ]
    }
   ],
   "source": [
    "data ['Standardized_structure'] = standardized_structures\n",
    "data.info()"
   ]
  },
  {
   "cell_type": "code",
   "execution_count": 10,
   "id": "daf1ca74-bc92-42b1-b812-2bd0353a16b9",
   "metadata": {},
   "outputs": [
    {
     "name": "stdout",
     "output_type": "stream",
     "text": [
      "{InvalidInstance(ElementFilter, Molecule contains forbidden chemical element.): 837}\n"
     ]
    }
   ],
   "source": [
    "structure_counts = Counter(data['Standardized_structure'])\n",
    "duplicates_structure = {structure: count for structure, count in structure_counts.items() if count > 1}\n",
    "print(duplicates_structure)"
   ]
  },
  {
   "cell_type": "markdown",
   "id": "9839c896-2516-4994-bd70-05ed4e0f50c0",
   "metadata": {},
   "source": [
    "For the porpuse of this project, after completing the standardization these molecular structures (up to this point stored as mol objects) should be converted to a canonical smiles. This is necessary because after standadization some structures were manipulated and cleaned and therefore the smiles will changed. Also, this is required for the feature extraction step when using Large Language Models (see next section). This canonicalization also guarantees that the smiles are unique and avoids the presence of duplicated structures. However, every toolkit, and sometimes different versions of the same software, different algorithm. Therefore, **the uniqueness of the canonical smiles can only be ensured by using the same tool and version if this step is required in the future.**"
   ]
  },
  {
   "cell_type": "code",
   "execution_count": 11,
   "id": "a8deb1ea-3db9-4741-a173-4b8b991fb014",
   "metadata": {},
   "outputs": [],
   "source": [
    "import rdkit\n",
    "from rdkit import Chem\n",
    "import numpy as np"
   ]
  },
  {
   "cell_type": "code",
   "execution_count": 12,
   "id": "4018df0c-edf2-4399-a095-07326db31661",
   "metadata": {},
   "outputs": [
    {
     "name": "stdout",
     "output_type": "stream",
     "text": [
      "RDKit version: 2024.09.5\n"
     ]
    }
   ],
   "source": [
    "print(\"RDKit version:\", rdkit.__version__)"
   ]
  },
  {
   "cell_type": "code",
   "execution_count": 13,
   "id": "c40e1c50-8618-4f5b-8121-02aefe7f3963",
   "metadata": {},
   "outputs": [],
   "source": [
    "def mol_to_smiles(mol):\n",
    "    \"\"\"\n",
    "    Converts an RDKit molecule object to its canonical SMILES representation.\n",
    "\n",
    "    Parameters:\n",
    "    -----------\n",
    "    mol : rdkit.Chem.rdchem.Mol\n",
    "        An RDKit molecule object to be converted to a SMILES string.\n",
    "\n",
    "    Returns:\n",
    "    --------\n",
    "    canonical_smiles : str or np.nan\n",
    "        The canonical SMILES string corresponding to the input molecule.\n",
    "        If the conversion fails (e.g., due to an invalid molecule), `np.nan` is returned.\n",
    "    \"\"\"\n",
    "    try:\n",
    "        canonical_smiles = Chem.MolToSmiles(mol)\n",
    "    except Exception as e:\n",
    "        # If an error occurs (e.g., invalid molecule), return Na\n",
    "        canonical_smiles = np.nan\n",
    "\n",
    "    return canonical_smiles"
   ]
  },
  {
   "cell_type": "code",
   "execution_count": 14,
   "id": "b9c0cbcb-2407-4903-8844-c9387e8ee943",
   "metadata": {},
   "outputs": [
    {
     "name": "stdout",
     "output_type": "stream",
     "text": [
      "<class 'pandas.core.frame.DataFrame'>\n",
      "RangeIndex: 10449 entries, 0 to 10448\n",
      "Data columns (total 4 columns):\n",
      " #   Column                  Non-Null Count  Dtype \n",
      "---  ------                  --------------  ----- \n",
      " 0   SMILES                  10449 non-null  object\n",
      " 1   Toxicity                10449 non-null  int64 \n",
      " 2   Standardized_structure  10449 non-null  object\n",
      " 3   Canonical_smiles        9611 non-null   object\n",
      "dtypes: int64(1), object(3)\n",
      "memory usage: 326.7+ KB\n"
     ]
    }
   ],
   "source": [
    "canonical_smiles = [mol_to_smiles(mol) for mol in data['Standardized_structure']]\n",
    "data ['Canonical_smiles'] = canonical_smiles\n",
    "data.info()"
   ]
  },
  {
   "cell_type": "markdown",
   "id": "7d6d5059-c87d-49f1-b508-1e240a82a199",
   "metadata": {},
   "source": [
    "Finally, after the canonicalization the invalid entries (837) are removed from the dataset keeping both the canonical smiles and the mol objects for practical porpuses in the next step."
   ]
  },
  {
   "cell_type": "code",
   "execution_count": 15,
   "id": "5ef19f40-5ac4-44c9-8d55-e7d1b1f9732b",
   "metadata": {},
   "outputs": [
    {
     "name": "stdout",
     "output_type": "stream",
     "text": [
      "<class 'pandas.core.frame.DataFrame'>\n",
      "RangeIndex: 9611 entries, 0 to 9610\n",
      "Data columns (total 4 columns):\n",
      " #   Column                  Non-Null Count  Dtype \n",
      "---  ------                  --------------  ----- \n",
      " 0   SMILES                  9611 non-null   object\n",
      " 1   Toxicity                9611 non-null   int64 \n",
      " 2   Standardized_structure  9611 non-null   object\n",
      " 3   Canonical_smiles        9611 non-null   object\n",
      "dtypes: int64(1), object(3)\n",
      "memory usage: 300.5+ KB\n"
     ]
    }
   ],
   "source": [
    "cleaned_data = data.dropna().reset_index(drop=True)\n",
    "cleaned_data.info()"
   ]
  },
  {
   "cell_type": "code",
   "execution_count": 16,
   "id": "81efb219-657f-4630-ac3e-b60439eccf35",
   "metadata": {},
   "outputs": [
    {
     "data": {
      "text/html": [
       "<div>\n",
       "<style scoped>\n",
       "    .dataframe tbody tr th:only-of-type {\n",
       "        vertical-align: middle;\n",
       "    }\n",
       "\n",
       "    .dataframe tbody tr th {\n",
       "        vertical-align: top;\n",
       "    }\n",
       "\n",
       "    .dataframe thead th {\n",
       "        text-align: right;\n",
       "    }\n",
       "</style>\n",
       "<table border=\"1\" class=\"dataframe\">\n",
       "  <thead>\n",
       "    <tr style=\"text-align: right;\">\n",
       "      <th></th>\n",
       "      <th>SMILES</th>\n",
       "      <th>Toxicity</th>\n",
       "      <th>Standardized_structure</th>\n",
       "      <th>Canonical_smiles</th>\n",
       "    </tr>\n",
       "  </thead>\n",
       "  <tbody>\n",
       "    <tr>\n",
       "      <th>0</th>\n",
       "      <td>Cn1cnc2c(F)c(Nc3ccc(Br)cc3Cl)c(C(=O)NOCCO)cc21</td>\n",
       "      <td>0</td>\n",
       "      <td>&lt;rdkit.Chem.rdchem.Mol object at 0x145f0ab21620&gt;</td>\n",
       "      <td>Cn1cnc2c(F)c(Nc3ccc(Br)cc3Cl)c(C(=O)NOCCO)cc21</td>\n",
       "    </tr>\n",
       "    <tr>\n",
       "      <th>1</th>\n",
       "      <td>COC(=O)c1ccc2c(c1)NC(=O)/C2=C(\\Nc1ccc(N(C)C(=O...</td>\n",
       "      <td>0</td>\n",
       "      <td>&lt;rdkit.Chem.rdchem.Mol object at 0x145f0ab21bc0&gt;</td>\n",
       "      <td>COC(=O)c1ccc2c(C(=Nc3ccc(N(C)C(=O)CN4CCN(C)CC4...</td>\n",
       "    </tr>\n",
       "    <tr>\n",
       "      <th>2</th>\n",
       "      <td>CN(C)C/C=C/C(=O)Nc1cc2c(Nc3ccc(F)c(Cl)c3)ncnc2...</td>\n",
       "      <td>0</td>\n",
       "      <td>&lt;rdkit.Chem.rdchem.Mol object at 0x145f0ab220c0&gt;</td>\n",
       "      <td>CN(C)CC=CC(=O)Nc1cc2c(Nc3ccc(F)c(Cl)c3)ncnc2cc...</td>\n",
       "    </tr>\n",
       "    <tr>\n",
       "      <th>3</th>\n",
       "      <td>COC1CC2CCC(C)C(O)(O2)C(=O)C(=O)N2CCCCC2C(=O)OC...</td>\n",
       "      <td>0</td>\n",
       "      <td>&lt;rdkit.Chem.rdchem.Mol object at 0x145f0ab22660&gt;</td>\n",
       "      <td>COC1CC2CCC(C)C(O)(O2)C(=O)C(=O)N2CCCCC2C(=O)OC...</td>\n",
       "    </tr>\n",
       "    <tr>\n",
       "      <th>4</th>\n",
       "      <td>CS(=O)(=O)O.Cc1ccc(NC(=O)c2ccc(CN3CCN(C)CC3)cc...</td>\n",
       "      <td>0</td>\n",
       "      <td>&lt;rdkit.Chem.rdchem.Mol object at 0x145f0ab21710&gt;</td>\n",
       "      <td>Cc1ccc(NC(=O)c2ccc(CN3CCN(C)CC3)cc2)cc1Nc1nccc...</td>\n",
       "    </tr>\n",
       "  </tbody>\n",
       "</table>\n",
       "</div>"
      ],
      "text/plain": [
       "                                              SMILES  Toxicity  \\\n",
       "0     Cn1cnc2c(F)c(Nc3ccc(Br)cc3Cl)c(C(=O)NOCCO)cc21         0   \n",
       "1  COC(=O)c1ccc2c(c1)NC(=O)/C2=C(\\Nc1ccc(N(C)C(=O...         0   \n",
       "2  CN(C)C/C=C/C(=O)Nc1cc2c(Nc3ccc(F)c(Cl)c3)ncnc2...         0   \n",
       "3  COC1CC2CCC(C)C(O)(O2)C(=O)C(=O)N2CCCCC2C(=O)OC...         0   \n",
       "4  CS(=O)(=O)O.Cc1ccc(NC(=O)c2ccc(CN3CCN(C)CC3)cc...         0   \n",
       "\n",
       "                             Standardized_structure  \\\n",
       "0  <rdkit.Chem.rdchem.Mol object at 0x145f0ab21620>   \n",
       "1  <rdkit.Chem.rdchem.Mol object at 0x145f0ab21bc0>   \n",
       "2  <rdkit.Chem.rdchem.Mol object at 0x145f0ab220c0>   \n",
       "3  <rdkit.Chem.rdchem.Mol object at 0x145f0ab22660>   \n",
       "4  <rdkit.Chem.rdchem.Mol object at 0x145f0ab21710>   \n",
       "\n",
       "                                    Canonical_smiles  \n",
       "0     Cn1cnc2c(F)c(Nc3ccc(Br)cc3Cl)c(C(=O)NOCCO)cc21  \n",
       "1  COC(=O)c1ccc2c(C(=Nc3ccc(N(C)C(=O)CN4CCN(C)CC4...  \n",
       "2  CN(C)CC=CC(=O)Nc1cc2c(Nc3ccc(F)c(Cl)c3)ncnc2cc...  \n",
       "3  COC1CC2CCC(C)C(O)(O2)C(=O)C(=O)N2CCCCC2C(=O)OC...  \n",
       "4  Cc1ccc(NC(=O)c2ccc(CN3CCN(C)CC3)cc2)cc1Nc1nccc...  "
      ]
     },
     "execution_count": 16,
     "metadata": {},
     "output_type": "execute_result"
    }
   ],
   "source": [
    "cleaned_data.head()"
   ]
  },
  {
   "cell_type": "code",
   "execution_count": 17,
   "id": "c1128d18-db1a-408b-82ee-05e0fc24d134",
   "metadata": {},
   "outputs": [
    {
     "data": {
      "application/vnd.jupyter.widget-view+json": {
       "model_id": "fafe6ffc39eb4a4a8c334cd4350b695e",
       "version_major": 2,
       "version_minor": 0
      },
      "text/plain": [
       "interactive(children=(Dropdown(description='idx', options=(0, 1, 2, 3, 4, 5, 6, 7, 8, 9, 10, 11, 12, 13, 14, 1…"
      ]
     },
     "metadata": {},
     "output_type": "display_data"
    }
   ],
   "source": [
    "from ipywidgets import interact, fixed \n",
    "from rdkit.Chem.Draw import rdMolDraw2D\n",
    "from IPython.display import SVG\n",
    "\n",
    "mols = cleaned_data['Standardized_structure']\n",
    "\n",
    "@interact(idx=range(0, len(mols)), ms=fixed(mols))\n",
    "def show_mol(idx, ms):\n",
    "    d2d = rdMolDraw2D.MolDraw2DSVG(450, 400)\n",
    "    d2d.drawOptions().prepareMolsBeforeDrawing=False\n",
    "    d2d.DrawMolecule(ms[idx])\n",
    "    d2d.FinishDrawing()\n",
    "    return SVG(d2d.GetDrawingText())"
   ]
  },
  {
   "cell_type": "code",
   "execution_count": 20,
   "id": "049045c3-f134-48d4-9a67-02920c45a5d7",
   "metadata": {},
   "outputs": [],
   "source": [
    "cleaned_data.to_csv('../data/cleaned_data.csv', index=False)"
   ]
  },
  {
   "cell_type": "markdown",
   "id": "74ee0c16-5071-4f92-8405-9072b2541f9d",
   "metadata": {},
   "source": [
    "## Molecular respresentation\n",
    "\n",
    "**NOTE: This section of the project is based on [DeepMol](https://deepmol.readthedocs.io/en/latest/) featurization tutorial, [MolPipeline](https://pubs.acs.org/doi/10.1021/acs.jcim.4c00863) example notebooks and [Fernandez-Torras et al.](https://www.sciencedirect.com/science/article/pii/S1367593121001204#fig1) with some modifications.**\n",
    "\n",
    "![features_image.png](https://ars.els-cdn.com/content/image/1-s2.0-S1367593121001204-gr1_lrg.jpg)\n",
    "\n",
    "Extracting features from molecules is a common task in machine learning and can be divided into classical methods and data driven methods. \n",
    "\n",
    "**Classical Methods**: There are 4 different types of features: 0D, 1D, 2D, 3D, or 4D.\n",
    " \n",
    "- 0D features are descriptors that describe the individual parts of the molecule together as a whole, such as the number of atoms, bond counts or the molecular weight.\n",
    "- 1D features are descriptors that describe substructures in the molecule (e.g. molecular fingerprints).\n",
    "- 2D features are descriptors that describe the molecular topology based on the graph representation of the molecules, e.g. the number of rings or the number of rotatable bonds.\n",
    "- 3D features are descriptors geometrical descriptors that describe the molecule as a 3D structure.\n",
    "- 4D features are descriptors that describe the molecule as a 4D structure. A new dimension is added to characterize the interactions between the molecule and the active site of a receptor or the multiple conformational states of the molecule, e.g. the molecular dynamics of the molecule.\n",
    " \n",
    "Source : [Molecular Descriptors for Structure–Activity Applications: A Hands-On Approach](https://link.springer.com/protocol/10.1007/978-1-4939-7899-1_1)\n",
    " \n",
    "Calculating 3D features requires the generation of 3D conformers, which can be computationally expensive for large molecules. In addition, some features may not be available for certain molecules, e.g. 3D features cannot be calculated for molecules that do not have a 3D structure. Some tools like DeepMol provide methods for generating compound 3D structures.\n",
    "\n",
    "**Data driven methods**: These are descriptors based on deep learning, pretrained models and LLMs strategies that encode molecules into abstract latent spaces, representing molecular similarities as simple distance measures between numerical vectors. Furthermore, molecular descriptors have expanded beyond chemistry, integrating relevant biological data from heterogeneous bioactivity assays. \n",
    "\n",
    "There is currently a huge amount of these methods comming out every day. This work of [The WhiteLab](https://pubs.rsc.org/en/content/articlelanding/2025/sc/d4sc03921a) presents a critical review of these tools depending on the case. In this tutorial we will use MolFormer, MolBERT, and ChemBERTa as they are the state of the art encoding methods for property prediction."
   ]
  },
  {
   "cell_type": "code",
   "execution_count": 38,
   "id": "2bf653c6-8c01-4f0d-8560-5fd537c95f94",
   "metadata": {},
   "outputs": [],
   "source": [
    "from molpipeline.mol2any import MolToMorganFP, MolToMACCSFP\n",
    "from featurization import LLMsEncoding"
   ]
  },
  {
   "cell_type": "code",
   "execution_count": 49,
   "id": "d8c95a81-c75e-4397-9a88-c76d13db60cc",
   "metadata": {},
   "outputs": [
    {
     "name": "stdout",
     "output_type": "stream",
     "text": [
      "CPU times: user 339 ms, sys: 4 ms, total: 343 ms\n",
      "Wall time: 342 ms\n"
     ]
    }
   ],
   "source": [
    "%%time\n",
    "pipeline_morgan = Pipeline(\n",
    "    [\n",
    "        ('morgan2_2048', MolToMorganFP(n_bits=1024, radius=2, return_as='dense'))\n",
    "    ]\n",
    ")\n",
    "\n",
    "morgan_matrix = pipeline_morgan.transform(cleaned_data['Standardized_structure'])"
   ]
  },
  {
   "cell_type": "code",
   "execution_count": 51,
   "id": "ca1eab17-0589-4279-b702-7ad7ed5dabc4",
   "metadata": {},
   "outputs": [],
   "source": [
    "morgan_df = pd.DataFrame(morgan_matrix)"
   ]
  },
  {
   "cell_type": "code",
   "execution_count": 40,
   "id": "36acce83-c629-44f8-b179-c279d83f33b3",
   "metadata": {},
   "outputs": [
    {
     "name": "stdout",
     "output_type": "stream",
     "text": [
      "CPU times: user 6.63 s, sys: 3.91 ms, total: 6.63 s\n",
      "Wall time: 6.63 s\n"
     ]
    }
   ],
   "source": [
    "%%time\n",
    "pipeline_maccs= Pipeline(\n",
    "    [\n",
    "        ('maccs', MolToMACCSFP(return_as='dense'))\n",
    "    ],\n",
    ")\n",
    "\n",
    "MACCS_matrix = pipeline_maccs.transform(cleaned_data['Standardized_structure'])\n",
    " "
   ]
  },
  {
   "cell_type": "code",
   "execution_count": 52,
   "id": "a0fe62e7-5bb5-4908-8a10-c76505094ec5",
   "metadata": {},
   "outputs": [],
   "source": [
    "MACCS_df = pd.DataFrame(MACCS_matrix)"
   ]
  },
  {
   "cell_type": "code",
   "execution_count": 41,
   "id": "f4caa540-eac5-4d5e-9f98-d97a23ad4870",
   "metadata": {},
   "outputs": [
    {
     "name": "stderr",
     "output_type": "stream",
     "text": [
      "Some weights of RobertaForMaskedLM were not initialized from the model checkpoint at DeepChem/ChemBERTa-77M-MTR and are newly initialized: ['lm_head.bias', 'lm_head.decoder.bias', 'lm_head.dense.bias', 'lm_head.dense.weight', 'lm_head.layer_norm.bias', 'lm_head.layer_norm.weight']\n",
      "You should probably TRAIN this model on a down-stream task to be able to use it for predictions and inference.\n",
      "100%|████████████████████████████████████████████████████████████████████████████████████████████████████████████████████████████████| 9611/9611 [00:22<00:00, 419.01it/s]"
     ]
    },
    {
     "name": "stdout",
     "output_type": "stream",
     "text": [
      "CPU times: user 4min 35s, sys: 258 ms, total: 4min 35s\n",
      "Wall time: 24.1 s\n"
     ]
    },
    {
     "name": "stderr",
     "output_type": "stream",
     "text": [
      "\n"
     ]
    }
   ],
   "source": [
    "%%time\n",
    "chemberta_embeddings = LLMsEncoding.featurize(cleaned_data['Canonical_smiles'], 'DeepChem/ChemBERTa-77M-MTR', 600)"
   ]
  },
  {
   "cell_type": "code",
   "execution_count": 53,
   "id": "3e6443ca-0725-49f2-b28a-6d1bfe8ca82c",
   "metadata": {},
   "outputs": [],
   "source": [
    "chemberta_df = pd.DataFrame(chemberta_embeddings)"
   ]
  },
  {
   "cell_type": "code",
   "execution_count": 42,
   "id": "970cf163-3e2d-4340-a271-098b588fbae0",
   "metadata": {},
   "outputs": [
    {
     "name": "stderr",
     "output_type": "stream",
     "text": [
      "Asking to truncate to max_length but no maximum length is provided and the model has no predefined maximum length. Default to no truncation.     | 0/9611 [00:00<?, ?it/s]\n",
      "100%|█████████████████████████████████████████████████████████████████████████████████████████████████████████████████████████████████| 9611/9611 [04:02<00:00, 39.66it/s]\n"
     ]
    },
    {
     "name": "stdout",
     "output_type": "stream",
     "text": [
      "CPU times: user 48min 25s, sys: 1.47 s, total: 48min 27s\n",
      "Wall time: 4min 4s\n"
     ]
    }
   ],
   "source": [
    "%%time\n",
    "molformer_embeddings = LLMsEncoding.featurize(cleaned_data['Canonical_smiles'], 'ibm/MolFormer-XL-both-10pct', 2362)"
   ]
  },
  {
   "cell_type": "code",
   "execution_count": 54,
   "id": "c9d25ae9-b6b1-4984-b638-fa8ff32f9163",
   "metadata": {},
   "outputs": [],
   "source": [
    "molformer_df = pd.DataFrame(molformer_embeddings)"
   ]
  },
  {
   "cell_type": "code",
   "execution_count": 43,
   "id": "cac9e0ec-6bfe-42a6-aa48-60bc3022314b",
   "metadata": {},
   "outputs": [
    {
     "name": "stderr",
     "output_type": "stream",
     "text": [
      "Asking to truncate to max_length but no maximum length is provided and the model has no predefined maximum length. Default to no truncation.     | 0/9611 [00:00<?, ?it/s]\n",
      "100%|█████████████████████████████████████████████████████████████████████████████████████████████████████████████████████████████████| 9611/9611 [03:22<00:00, 47.45it/s]"
     ]
    },
    {
     "name": "stdout",
     "output_type": "stream",
     "text": [
      "CPU times: user 40min 30s, sys: 940 ms, total: 40min 31s\n",
      "Wall time: 3min 23s\n"
     ]
    },
    {
     "name": "stderr",
     "output_type": "stream",
     "text": [
      "\n"
     ]
    }
   ],
   "source": [
    "%%time\n",
    "selformer_embeddings = LLMsEncoding.featurize(cleaned_data['Canonical_smiles'], 'HUBioDataLab/SELFormer', 800)"
   ]
  },
  {
   "cell_type": "code",
   "execution_count": 55,
   "id": "30abe6a1-a154-4c7d-80f6-d78b38445ffe",
   "metadata": {},
   "outputs": [],
   "source": [
    "selformer_df = pd.DataFrame(selformer_embeddings)"
   ]
  }
 ],
 "metadata": {
  "kernelspec": {
   "display_name": "Python 3 (ipykernel)",
   "language": "python",
   "name": "python3"
  },
  "language_info": {
   "codemirror_mode": {
    "name": "ipython",
    "version": 3
   },
   "file_extension": ".py",
   "mimetype": "text/x-python",
   "name": "python",
   "nbconvert_exporter": "python",
   "pygments_lexer": "ipython3",
   "version": "3.11.11"
  }
 },
 "nbformat": 4,
 "nbformat_minor": 5
}
